{
  "nbformat": 4,
  "nbformat_minor": 0,
  "metadata": {
    "colab": {
      "provenance": [],
      "collapsed_sections": [],
      "authorship_tag": "ABX9TyOoSWusi36MoyWglCgIXSbg",
      "include_colab_link": true
    },
    "kernelspec": {
      "name": "python3",
      "display_name": "Python 3"
    },
    "language_info": {
      "name": "python"
    }
  },
  "cells": [
    {
      "cell_type": "markdown",
      "metadata": {
        "id": "view-in-github",
        "colab_type": "text"
      },
      "source": [
        "<a href=\"https://colab.research.google.com/github/bc0403/acoustics/blob/main/ggzhang_05_%E5%90%84%E5%90%91%E5%90%8C%E6%80%A7%E6%9D%90%E6%96%99%E4%B8%AD%E7%9A%84SAW%E5%88%86%E6%9E%90_refactor.ipynb\" target=\"_parent\"><img src=\"https://colab.research.google.com/assets/colab-badge.svg\" alt=\"Open In Colab\"/></a>"
      ]
    },
    {
      "cell_type": "markdown",
      "source": [
        "## part 1, 符号计算"
      ],
      "metadata": {
        "id": "8MShoYXGeD_L"
      }
    },
    {
      "cell_type": "code",
      "execution_count": null,
      "metadata": {
        "colab": {
          "base_uri": "https://localhost:8080/",
          "height": 78
        },
        "id": "ux1OIkwHy2Kw",
        "outputId": "5b877881-b43a-4dd9-bed7-751b5a75bc91"
      },
      "outputs": [
        {
          "output_type": "execute_result",
          "data": {
            "text/plain": [
              "⎡   2                2                                                ⎤\n",
              "⎢  b ⋅c₄₄ + c₁₁ - ρ⋅v              0           b⋅c₄₄ + b⋅(c₁₁ - 2⋅c₄₄)⎥\n",
              "⎢                                                                     ⎥\n",
              "⎢                          2                2                         ⎥\n",
              "⎢           0             b ⋅c₄₄ + c₄₄ - ρ⋅v              0           ⎥\n",
              "⎢                                                                     ⎥\n",
              "⎢                                                 2                2  ⎥\n",
              "⎣b⋅c₄₄ + b⋅(c₁₁ - 2⋅c₄₄)           0             b ⋅c₁₁ + c₄₄ - ρ⋅v   ⎦"
            ],
            "text/latex": "$\\displaystyle \\left[\\begin{matrix}b^{2} c_{44} + c_{11} - \\rho v^{2} & 0 & b c_{44} + b \\left(c_{11} - 2 c_{44}\\right)\\\\0 & b^{2} c_{44} + c_{44} - \\rho v^{2} & 0\\\\b c_{44} + b \\left(c_{11} - 2 c_{44}\\right) & 0 & b^{2} c_{11} + c_{44} - \\rho v^{2}\\end{matrix}\\right]$"
          },
          "metadata": {},
          "execution_count": 1
        }
      ],
      "source": [
        "import numpy as np\n",
        "from sympy import (Matrix, symbols, Rational, init_printing, \n",
        "    eye, solve, exp, linsolve, diff, I)\n",
        "init_printing(use_unicode=True)\n",
        "import time\n",
        "\n",
        "# DEFINE SYMBOLS\n",
        "rho = symbols(\"rho\")  # density\n",
        "c11, c12, c13, c14, c33, c44 = symbols('c11 c12 c13 c14 c33 c44')  # stiffness\n",
        "ex1, ex4, ex5, ey2, ez1, ez3 = symbols(\n",
        "    'ex1 ex4 ex5, ey2, ez1, ez3')  # piezoelectric stress constants\n",
        "eSxx, eSzz = symbols('eSxx eSzz')  # dielectric constants\n",
        "\n",
        "alpha, beta, theta = symbols(\"alpha beta theta\")  # Euler angles\n",
        "\n",
        "x, y, z, t, k, b, v = symbols('x y z t k b v')\n",
        "uxo1, uyo1, uzo1 = symbols('uxo1 uyo1 uzo1')  # null vector 1\n",
        "uxo2, uyo2, uzo2 = symbols('uxo2 uyo2 uzo2')  # null vector 2\n",
        "uxo3, uyo3, uzo3 = symbols('uxo3 uyo3 uzo3')  # null vector 3\n",
        "b1, b2, b3 = symbols('b1 b2 b3')  # attenuation constant at z dirction\n",
        "alpha1, alpha2, alpha3 = symbols('alpha1 alpha2 alpha3')  # linear combine coeff\n",
        "Gamma = symbols('Gamma')  # Christoffel matrix\n",
        "\n",
        "# wave propagation\n",
        "Nab = Matrix([\n",
        "    [1, 0, 0, 0, b, 0],\n",
        "    [0, 0, 0, b, 0, 1],\n",
        "    [0, 0, b, 0, 1, 0]\n",
        "])\n",
        "\n",
        "c = Matrix([\n",
        "    [c11, c11-2*c44, c11-2*c44, 0, 0, 0],\n",
        "    [c11-2*c44, c11, c11-2*c44, 0, 0, 0],\n",
        "    [c11-2*c44, c11-2*c44, c11, 0, 0, 0],\n",
        "    [0, 0, 0, c44, 0, 0],\n",
        "    [0, 0, 0, 0, c44, 0],\n",
        "    [0, 0, 0, 0, 0, c44]\n",
        "])\n",
        "\n",
        "Gamma = Nab*c*Nab.T\n",
        "A = Gamma - eye(3)*rho*v**2\n",
        "A"
      ]
    },
    {
      "cell_type": "code",
      "source": [
        "A13 = A\n",
        "A13.col_del(1)\n",
        "A13.row_del(1)\n",
        "A13"
      ],
      "metadata": {
        "colab": {
          "base_uri": "https://localhost:8080/",
          "height": 58
        },
        "id": "0oJDvEm68nut",
        "outputId": "efd7f272-3279-458f-8e6f-0ab709c67504"
      },
      "execution_count": null,
      "outputs": [
        {
          "output_type": "execute_result",
          "data": {
            "text/plain": [
              "⎡   2                2                           ⎤\n",
              "⎢  b ⋅c₄₄ + c₁₁ - ρ⋅v     b⋅c₄₄ + b⋅(c₁₁ - 2⋅c₄₄)⎥\n",
              "⎢                                                ⎥\n",
              "⎢                            2                2  ⎥\n",
              "⎣b⋅c₄₄ + b⋅(c₁₁ - 2⋅c₄₄)    b ⋅c₁₁ + c₄₄ - ρ⋅v   ⎦"
            ],
            "text/latex": "$\\displaystyle \\left[\\begin{matrix}b^{2} c_{44} + c_{11} - \\rho v^{2} & b c_{44} + b \\left(c_{11} - 2 c_{44}\\right)\\\\b c_{44} + b \\left(c_{11} - 2 c_{44}\\right) & b^{2} c_{11} + c_{44} - \\rho v^{2}\\end{matrix}\\right]$"
          },
          "metadata": {},
          "execution_count": 2
        }
      ]
    },
    {
      "cell_type": "code",
      "source": [
        "# ux1 = uxo1*exp(-I*k*b1*z)*exp(I*k*(v*t-x))\n",
        "# uz1 = uzo1*exp(-I*k*b1*z)*exp(I*k*(v*t-x))\n",
        "\n",
        "# ux3 = uxo3*exp(-I*k*b3*z)*exp(I*k*(v*t-x))\n",
        "# uz3 = uzo3*exp(-I*k*b3*z)*exp(I*k*(v*t-x))\n",
        "\n",
        "u1 = Matrix([\n",
        "    [uxo1],\n",
        "    [0],\n",
        "    [uzo1]\n",
        "])\n",
        "u3 = Matrix([\n",
        "    [uxo3],\n",
        "    [0],\n",
        "    [uzo3]\n",
        "])\n",
        "# u = alpha1*u1 + alpha3*u3\n",
        "\n",
        "# T1 = -I*k*c*Nab.subs(b, b1).T*u1*alpha1\n",
        "# T3 = -I*k*c*Nab.subs(b, b3).T*u3*alpha3\n",
        "T1 = c*Nab.subs(b, b1).T*u1*alpha1\n",
        "T3 = c*Nab.subs(b, b3).T*u3*alpha3\n",
        "T = T1 + T3\n",
        "\n",
        "T"
      ],
      "metadata": {
        "colab": {
          "base_uri": "https://localhost:8080/",
          "height": 139
        },
        "id": "ZiNJ_awkGfag",
        "outputId": "c5961ed3-a50d-4880-f92b-93f60c60de31"
      },
      "execution_count": null,
      "outputs": [
        {
          "output_type": "execute_result",
          "data": {
            "text/plain": [
              "⎡          α₁⋅(b₁⋅uzo₁⋅(c₁₁ - 2⋅c₄₄) + c₁₁⋅uxo₁) + α₃⋅(b₃⋅uzo₃⋅(c₁₁ - 2⋅c₄₄) +\n",
              "⎢                                                                             \n",
              "⎢α₁⋅(b₁⋅uzo₁⋅(c₁₁ - 2⋅c₄₄) + uxo₁⋅(c₁₁ - 2⋅c₄₄)) + α₃⋅(b₃⋅uzo₃⋅(c₁₁ - 2⋅c₄₄) +\n",
              "⎢                                                                             \n",
              "⎢          α₁⋅(b₁⋅c₁₁⋅uzo₁ + uxo₁⋅(c₁₁ - 2⋅c₄₄)) + α₃⋅(b₃⋅c₁₁⋅uzo₃ + uxo₃⋅(c₁₁\n",
              "⎢                                                                             \n",
              "⎢                                                0                            \n",
              "⎢                                                                             \n",
              "⎢                    α₁⋅(b₁⋅c₄₄⋅uxo₁ + c₄₄⋅uzo₁) + α₃⋅(b₃⋅c₄₄⋅uxo₃ + c₄₄⋅uzo₃)\n",
              "⎢                                                                             \n",
              "⎣                                                0                            \n",
              "\n",
              " c₁₁⋅uxo₃)          ⎤\n",
              "                    ⎥\n",
              " uxo₃⋅(c₁₁ - 2⋅c₄₄))⎥\n",
              "                    ⎥\n",
              " - 2⋅c₄₄))          ⎥\n",
              "                    ⎥\n",
              "                    ⎥\n",
              "                    ⎥\n",
              "                    ⎥\n",
              "                    ⎥\n",
              "                    ⎦"
            ],
            "text/latex": "$\\displaystyle \\left[\\begin{matrix}\\alpha_{1} \\left(b_{1} uzo_{1} \\left(c_{11} - 2 c_{44}\\right) + c_{11} uxo_{1}\\right) + \\alpha_{3} \\left(b_{3} uzo_{3} \\left(c_{11} - 2 c_{44}\\right) + c_{11} uxo_{3}\\right)\\\\\\alpha_{1} \\left(b_{1} uzo_{1} \\left(c_{11} - 2 c_{44}\\right) + uxo_{1} \\left(c_{11} - 2 c_{44}\\right)\\right) + \\alpha_{3} \\left(b_{3} uzo_{3} \\left(c_{11} - 2 c_{44}\\right) + uxo_{3} \\left(c_{11} - 2 c_{44}\\right)\\right)\\\\\\alpha_{1} \\left(b_{1} c_{11} uzo_{1} + uxo_{1} \\left(c_{11} - 2 c_{44}\\right)\\right) + \\alpha_{3} \\left(b_{3} c_{11} uzo_{3} + uxo_{3} \\left(c_{11} - 2 c_{44}\\right)\\right)\\\\0\\\\\\alpha_{1} \\left(b_{1} c_{44} uxo_{1} + c_{44} uzo_{1}\\right) + \\alpha_{3} \\left(b_{3} c_{44} uxo_{3} + c_{44} uzo_{3}\\right)\\\\0\\end{matrix}\\right]$"
          },
          "metadata": {},
          "execution_count": 3
        }
      ]
    },
    {
      "cell_type": "code",
      "source": [
        "b13 = solve(A13.det(), b)\n",
        "b13"
      ],
      "metadata": {
        "colab": {
          "base_uri": "https://localhost:8080/",
          "height": 78
        },
        "id": "rKz_4lqn9Kn_",
        "outputId": "947d904e-06f0-4fc3-91d6-68f8774e37d6"
      },
      "execution_count": null,
      "outputs": [
        {
          "output_type": "execute_result",
          "data": {
            "text/plain": [
              "⎡      ___________       ___________        ___________       ___________⎤\n",
              "⎢     ╱         2       ╱         2        ╱         2       ╱         2 ⎥\n",
              "⎢    ╱       ρ⋅v       ╱       ρ⋅v        ╱       ρ⋅v       ╱       ρ⋅v  ⎥\n",
              "⎢-  ╱   -1 + ──── ,   ╱   -1 + ──── , -  ╱   -1 + ──── ,   ╱   -1 + ──── ⎥\n",
              "⎣ ╲╱         c₁₁    ╲╱         c₁₁     ╲╱         c₄₄    ╲╱         c₄₄  ⎦"
            ],
            "image/png": "[encoded data removed]",
            "text/latex": "$\\displaystyle \\left[ - \\sqrt{-1 + \\frac{\\rho v^{2}}{c_{11}}}, \\  \\sqrt{-1 + \\frac{\\rho v^{2}}{c_{11}}}, \\  - \\sqrt{-1 + \\frac{\\rho v^{2}}{c_{44}}}, \\  \\sqrt{-1 + \\frac{\\rho v^{2}}{c_{44}}}\\right]$"
          },
          "metadata": {},
          "execution_count": 4
        }
      ]
    },
    {
      "cell_type": "code",
      "source": [
        "b1s, _, b3s, _ = b13  # s means symbol\n",
        "b1s\n"
      ],
      "metadata": {
        "colab": {
          "base_uri": "https://localhost:8080/",
          "height": 68
        },
        "id": "bBtSLYkOCB9C",
        "outputId": "fad60cc3-47ca-4bc0-fe0c-4b08295e0b9c"
      },
      "execution_count": null,
      "outputs": [
        {
          "output_type": "execute_result",
          "data": {
            "text/plain": [
              "      ___________\n",
              "     ╱         2 \n",
              "    ╱       ρ⋅v  \n",
              "-  ╱   -1 + ──── \n",
              " ╲╱         c₁₁  "
            ],
            "image/png": "[encoded data removed]",
            "text/latex": "$\\displaystyle - \\sqrt{-1 + \\frac{\\rho v^{2}}{c_{11}}}$"
          },
          "metadata": {},
          "execution_count": 5
        }
      ]
    },
    {
      "cell_type": "code",
      "source": [
        "b3s"
      ],
      "metadata": {
        "colab": {
          "base_uri": "https://localhost:8080/",
          "height": 68
        },
        "id": "ETmrRmKOf5Fy",
        "outputId": "919d3963-b84a-4f64-a934-4a8ea1672c8b"
      },
      "execution_count": null,
      "outputs": [
        {
          "output_type": "execute_result",
          "data": {
            "text/plain": [
              "      ___________\n",
              "     ╱         2 \n",
              "    ╱       ρ⋅v  \n",
              "-  ╱   -1 + ──── \n",
              " ╲╱         c₄₄  "
            ],
            "image/png": "[encoded data removed]",
            "text/latex": "$\\displaystyle - \\sqrt{-1 + \\frac{\\rho v^{2}}{c_{44}}}$"
          },
          "metadata": {},
          "execution_count": 6
        }
      ]
    },
    {
      "cell_type": "code",
      "source": [
        "vec1 = A13.subs(b, b1s).nullspace()\n",
        "vec3 = A13.subs(b, b3s).nullspace()\n",
        "vec1"
      ],
      "metadata": {
        "colab": {
          "base_uri": "https://localhost:8080/",
          "height": 82
        },
        "id": "b3ip0wZfngC2",
        "outputId": "c3883b2c-53bb-466d-a79f-dbf6a3464dde"
      },
      "execution_count": null,
      "outputs": [
        {
          "output_type": "execute_result",
          "data": {
            "text/plain": [
              "⎡⎡          ___________ ⎤⎤\n",
              "⎢⎢         ╱         2  ⎥⎥\n",
              "⎢⎢        ╱       ρ⋅v   ⎥⎥\n",
              "⎢⎢-c₁₁⋅  ╱   -1 + ────  ⎥⎥\n",
              "⎢⎢     ╲╱         c₁₁   ⎥⎥\n",
              "⎢⎢──────────────────────⎥⎥\n",
              "⎢⎢               2      ⎥⎥\n",
              "⎢⎢     -c₁₁ + ρ⋅v       ⎥⎥\n",
              "⎢⎢                      ⎥⎥\n",
              "⎣⎣          1           ⎦⎦"
            ],
            "text/latex": "$\\displaystyle \\left[ \\left[\\begin{matrix}- \\frac{c_{11} \\sqrt{-1 + \\frac{\\rho v^{2}}{c_{11}}}}{- c_{11} + \\rho v^{2}}\\\\1\\end{matrix}\\right]\\right]$"
          },
          "metadata": {},
          "execution_count": 7
        }
      ]
    },
    {
      "cell_type": "code",
      "source": [
        "vec3"
      ],
      "metadata": {
        "colab": {
          "base_uri": "https://localhost:8080/",
          "height": 68
        },
        "id": "PP51uWFNf8E3",
        "outputId": "cedb0250-f527-43d3-b413-a066d6d96f68"
      },
      "execution_count": null,
      "outputs": [
        {
          "output_type": "execute_result",
          "data": {
            "text/plain": [
              "⎡⎡     ___________⎤⎤\n",
              "⎢⎢    ╱         2 ⎥⎥\n",
              "⎢⎢   ╱       ρ⋅v  ⎥⎥\n",
              "⎢⎢  ╱   -1 + ──── ⎥⎥\n",
              "⎢⎢╲╱         c₄₄  ⎥⎥\n",
              "⎢⎢                ⎥⎥\n",
              "⎣⎣       1        ⎦⎦"
            ],
            "text/latex": "$\\displaystyle \\left[ \\left[\\begin{matrix}\\sqrt{-1 + \\frac{\\rho v^{2}}{c_{44}}}\\\\1\\end{matrix}\\right]\\right]$"
          },
          "metadata": {},
          "execution_count": 8
        }
      ]
    },
    {
      "cell_type": "code",
      "source": [
        "uxo1s = vec1[0][0]\n",
        "uzo1s = vec1[0][1]\n",
        "uxo3s = vec3[0][0]\n",
        "uzo3s = vec3[0][1]\n",
        "uxo1s"
      ],
      "metadata": {
        "colab": {
          "base_uri": "https://localhost:8080/",
          "height": 70
        },
        "id": "xNWprCvtDRL6",
        "outputId": "02ea54ac-e06a-4a86-c0f9-085374ce2b08"
      },
      "execution_count": null,
      "outputs": [
        {
          "output_type": "execute_result",
          "data": {
            "text/plain": [
              "          ___________ \n",
              "         ╱         2  \n",
              "        ╱       ρ⋅v   \n",
              "-c₁₁⋅  ╱   -1 + ────  \n",
              "     ╲╱         c₁₁   \n",
              "──────────────────────\n",
              "               2      \n",
              "     -c₁₁ + ρ⋅v       "
            ],
            "image/png": "[encoded data removed]",
            "text/latex": "$\\displaystyle - \\frac{c_{11} \\sqrt{-1 + \\frac{\\rho v^{2}}{c_{11}}}}{- c_{11} + \\rho v^{2}}$"
          },
          "metadata": {},
          "execution_count": 9
        }
      ]
    },
    {
      "cell_type": "code",
      "source": [
        "uxo3s"
      ],
      "metadata": {
        "colab": {
          "base_uri": "https://localhost:8080/",
          "height": 68
        },
        "id": "f0zyjnXXiSE_",
        "outputId": "7692893d-c5cc-493c-d784-358e9c6b7250"
      },
      "execution_count": null,
      "outputs": [
        {
          "output_type": "execute_result",
          "data": {
            "text/plain": [
              "     ___________\n",
              "    ╱         2 \n",
              "   ╱       ρ⋅v  \n",
              "  ╱   -1 + ──── \n",
              "╲╱         c₄₄  "
            ],
            "image/png": "[encoded data removed]",
            "text/latex": "$\\displaystyle \\sqrt{-1 + \\frac{\\rho v^{2}}{c_{44}}}$"
          },
          "metadata": {},
          "execution_count": 10
        }
      ]
    },
    {
      "cell_type": "code",
      "source": [
        "uzo1s"
      ],
      "metadata": {
        "colab": {
          "base_uri": "https://localhost:8080/",
          "height": 37
        },
        "id": "ZEicPjThiXJk",
        "outputId": "d259af62-a6bd-4796-fbf4-f2bd75709ade"
      },
      "execution_count": null,
      "outputs": [
        {
          "output_type": "execute_result",
          "data": {
            "text/plain": [
              "1"
            ],
            "image/png": "[encoded data removed]",
            "text/latex": "$\\displaystyle 1$"
          },
          "metadata": {},
          "execution_count": 11
        }
      ]
    },
    {
      "cell_type": "code",
      "source": [
        "uzo3s"
      ],
      "metadata": {
        "colab": {
          "base_uri": "https://localhost:8080/",
          "height": 37
        },
        "id": "QlNcAvKxiYNz",
        "outputId": "43addf19-1410-4d5a-8cc3-69ade33bc641"
      },
      "execution_count": null,
      "outputs": [
        {
          "output_type": "execute_result",
          "data": {
            "text/plain": [
              "1"
            ],
            "image/png": "[encoded data removed]",
            "text/latex": "$\\displaystyle 1$"
          },
          "metadata": {},
          "execution_count": 12
        }
      ]
    },
    {
      "cell_type": "markdown",
      "source": [
        "## part 2， 数值计算：直接求解声速"
      ],
      "metadata": {
        "id": "s6NN9EtaeNSd"
      }
    },
    {
      "cell_type": "code",
      "source": [
        "Tzz = T[2].subs([(b1, b1s), (b3, b3s), (uxo1, uxo1s), (uzo1, uzo1s), (uxo3, uxo3s), (uzo3, uzo3s), (rho, 2700.0), (c11, 107.0e9), (c44, 28.0e9)])\n",
        "Tzz"
      ],
      "metadata": {
        "id": "Occk7b-QtHlq",
        "colab": {
          "base_uri": "https://localhost:8080/",
          "height": 92
        },
        "outputId": "5eec356f-489a-479b-87bf-bf97d9c6e88d"
      },
      "execution_count": null,
      "outputs": [
        {
          "output_type": "execute_result",
          "data": {
            "text/plain": [
              "   ⎛                                                                __________\n",
              "   ⎜                    ____________________________               ╱          \n",
              "   ⎜                   ╱                      2        5.457e+21⋅╲╱  2.5233644\n",
              "α₁⋅⎜- 107000000000.0⋅╲╱  2.52336448598131e-8⋅v  - 1  - ───────────────────────\n",
              "   ⎜                                                                   2      \n",
              "   ⎝                                                           2700.0⋅v  - 107\n",
              "\n",
              "__________________⎞                                                   \n",
              "            2     ⎟                       ____________________________\n",
              "8598131e-8⋅v  - 1 ⎟                      ╱                      2     \n",
              "──────────────────⎟ - 56000000000.0⋅α₃⋅╲╱  9.64285714285714e-8⋅v  - 1 \n",
              "                  ⎟                                                   \n",
              "000000000.0       ⎠                                                   "
            ],
            "image/png": "[encoded data removed]",
            "text/latex": "$\\displaystyle \\alpha_{1} \\left(- 107000000000.0 \\sqrt{2.52336448598131 \\cdot 10^{-8} v^{2} - 1} - \\frac{5.457 \\cdot 10^{21} \\sqrt{2.52336448598131 \\cdot 10^{-8} v^{2} - 1}}{2700.0 v^{2} - 107000000000.0}\\right) - 56000000000.0 \\alpha_{3} \\sqrt{9.64285714285714 \\cdot 10^{-8} v^{2} - 1}$"
          },
          "metadata": {},
          "execution_count": 13
        }
      ]
    },
    {
      "cell_type": "code",
      "source": [
        "Txz = T[4].subs([(b1, b1s), (b3, b3s), (uxo1, uxo1s), (uzo1, uzo1s), (uxo3, uxo3s), (uzo3, uzo3s), (rho, 2700.0), (c11, 107.0e9), (c44, 28.0e9)])\n",
        "Txz"
      ],
      "metadata": {
        "id": "NwhQjQgruOaB",
        "colab": {
          "base_uri": "https://localhost:8080/",
          "height": 68
        },
        "outputId": "059ffc8f-c636-4a00-cfaf-a2a6bfd65854"
      },
      "execution_count": null,
      "outputs": [
        {
          "output_type": "execute_result",
          "data": {
            "text/plain": [
              "   ⎛          ⎛                     2    ⎞                ⎞                   \n",
              "   ⎜2.996e+21⋅⎝2.52336448598131e-8⋅v  - 1⎠                ⎟      ⎛            \n",
              "α₁⋅⎜────────────────────────────────────── + 28000000000.0⎟ + α₃⋅⎝56000000000.\n",
              "   ⎜              2                                       ⎟                   \n",
              "   ⎝      2700.0⋅v  - 107000000000.0                      ⎠                   \n",
              "\n",
              "              \n",
              "            2⎞\n",
              "0 - 2700.0⋅v ⎠\n",
              "              \n",
              "              "
            ],
            "image/png": "[encoded data removed]",
            "text/latex": "$\\displaystyle \\alpha_{1} \\left(\\frac{2.996 \\cdot 10^{21} \\left(2.52336448598131 \\cdot 10^{-8} v^{2} - 1\\right)}{2700.0 v^{2} - 107000000000.0} + 28000000000.0\\right) + \\alpha_{3} \\left(56000000000.0 - 2700.0 v^{2}\\right)$"
          },
          "metadata": {},
          "execution_count": 14
        }
      ]
    },
    {
      "cell_type": "code",
      "source": [
        "B = Matrix([\n",
        "    [diff(Tzz, alpha1), diff(Tzz, alpha3)],\n",
        "    [diff(Txz, alpha1), diff(Txz, alpha3)]\n",
        "])\n",
        "B"
      ],
      "metadata": {
        "colab": {
          "base_uri": "https://localhost:8080/",
          "height": 70
        },
        "id": "DDsXzIYpx0eF",
        "outputId": "a68450b1-d4ca-4a7e-a7ed-75afccd5013d"
      },
      "execution_count": null,
      "outputs": [
        {
          "output_type": "execute_result",
          "data": {
            "text/plain": [
              "⎡                                                                _____________\n",
              "⎢                    ____________________________               ╱             \n",
              "⎢                   ╱                      2        5.457e+21⋅╲╱  2.5233644859\n",
              "⎢- 107000000000.0⋅╲╱  2.52336448598131e-8⋅v  - 1  - ──────────────────────────\n",
              "⎢                                                                   2         \n",
              "⎢                                                           2700.0⋅v  - 107000\n",
              "⎢                                                                             \n",
              "⎢                             ⎛                     2    ⎞                    \n",
              "⎢                   2.996e+21⋅⎝2.52336448598131e-8⋅v  - 1⎠                    \n",
              "⎢                   ────────────────────────────────────── + 28000000000.0    \n",
              "⎢                                 2                                           \n",
              "⎣                         2700.0⋅v  - 107000000000.0                          \n",
              "\n",
              "_______________                                                ⎤\n",
              "         2                         ____________________________⎥\n",
              "8131e-8⋅v  - 1                    ╱                      2     ⎥\n",
              "───────────────  -56000000000.0⋅╲╱  9.64285714285714e-8⋅v  - 1 ⎥\n",
              "                                                               ⎥\n",
              "000000.0                                                       ⎥\n",
              "                                                               ⎥\n",
              "                                                               ⎥\n",
              "                                                   2           ⎥\n",
              "                           56000000000.0 - 2700.0⋅v            ⎥\n",
              "                                                               ⎥\n",
              "                                                               ⎦"
            ],
            "text/latex": "$\\displaystyle \\left[\\begin{matrix}- 107000000000.0 \\sqrt{2.52336448598131 \\cdot 10^{-8} v^{2} - 1} - \\frac{5.457 \\cdot 10^{21} \\sqrt{2.52336448598131 \\cdot 10^{-8} v^{2} - 1}}{2700.0 v^{2} - 107000000000.0} & - 56000000000.0 \\sqrt{9.64285714285714 \\cdot 10^{-8} v^{2} - 1}\\\\\\frac{2.996 \\cdot 10^{21} \\left(2.52336448598131 \\cdot 10^{-8} v^{2} - 1\\right)}{2700.0 v^{2} - 107000000000.0} + 28000000000.0 & 56000000000.0 - 2700.0 v^{2}\\end{matrix}\\right]$"
          },
          "metadata": {},
          "execution_count": 15
        }
      ]
    },
    {
      "cell_type": "code",
      "source": [
        "start_time = time.time()\n",
        "v_list = solve(B.det(), v)\n",
        "end_time = time.time()\n",
        "time_passed = end_time - start_time\n",
        "v_list"
      ],
      "metadata": {
        "colab": {
          "base_uri": "https://localhost:8080/",
          "height": 37
        },
        "id": "m2dBALBvy4kH",
        "outputId": "859c7b1b-2cb1-4dcf-f303-ca863f9e4cc7"
      },
      "execution_count": null,
      "outputs": [
        {
          "output_type": "execute_result",
          "data": {
            "text/plain": [
              "[-6295.20687742902, -2997.87217454377, 0.0, 2997.87217454377, 6295.20687742902\n",
              "]"
            ],
            "image/png": "[encoded data removed]",
            "text/latex": "$\\displaystyle \\left[ -6295.20687742902, \\  -2997.87217454377, \\  0.0, \\  2997.87217454377, \\  6295.20687742902\\right]$"
          },
          "metadata": {},
          "execution_count": 16
        }
      ]
    },
    {
      "cell_type": "code",
      "source": [
        "print(f\"time escaped：{time_passed:.3f} s\")"
      ],
      "metadata": {
        "colab": {
          "base_uri": "https://localhost:8080/"
        },
        "id": "9E5VXStDzSyO",
        "outputId": "d12fcccf-761f-4272-e03c-2758c22fda08"
      },
      "execution_count": null,
      "outputs": [
        {
          "output_type": "stream",
          "name": "stdout",
          "text": [
            "time escaped：95.035 s\n"
          ]
        }
      ]
    },
    {
      "cell_type": "code",
      "source": [
        "v_num = v_list[3]\n",
        "v_num"
      ],
      "metadata": {
        "colab": {
          "base_uri": "https://localhost:8080/",
          "height": 37
        },
        "id": "yA6r6ShjhDrU",
        "outputId": "43676cc3-234e-4e73-f53f-e31e154637e0"
      },
      "execution_count": null,
      "outputs": [
        {
          "output_type": "execute_result",
          "data": {
            "text/plain": [
              "2997.87217454377"
            ],
            "image/png": "[encoded data removed]",
            "text/latex": "$\\displaystyle 2997.87217454377$"
          },
          "metadata": {},
          "execution_count": 18
        }
      ]
    },
    {
      "cell_type": "code",
      "source": [
        "Tzz_num = Tzz.subs(v, v_num)\n",
        "Txz_num = Txz.subs(v, v_num)\n",
        "Tzz_num"
      ],
      "metadata": {
        "colab": {
          "base_uri": "https://localhost:8080/",
          "height": 39
        },
        "id": "ZS3u8t9c1f68",
        "outputId": "6f98a9e9-354f-48e9-89b3-bb27b123efd9"
      },
      "execution_count": null,
      "outputs": [
        {
          "output_type": "execute_result",
          "data": {
            "text/plain": [
              "-36089408751.8047⋅ⅈ⋅α₁ - 20451390107.9876⋅ⅈ⋅α₃"
            ],
            "image/png": "[encoded data removed]",
            "text/latex": "$\\displaystyle - 36089408751.8047 i \\alpha_{1} - 20451390107.9876 i \\alpha_{3}$"
          },
          "metadata": {},
          "execution_count": 19
        }
      ]
    },
    {
      "cell_type": "code",
      "source": [
        "Txz_num"
      ],
      "metadata": {
        "colab": {
          "base_uri": "https://localhost:8080/",
          "height": 39
        },
        "id": "pFje6DjGj-mv",
        "outputId": "bb3132c6-2acc-45bb-f2d3-200ed9d50213"
      },
      "execution_count": null,
      "outputs": [
        {
          "output_type": "execute_result",
          "data": {
            "text/plain": [
              "56000000000.0⋅α₁ + 31734458547.7598⋅α₃"
            ],
            "image/png": "[encoded data removed]",
            "text/latex": "$\\displaystyle 56000000000.0 \\alpha_{1} + 31734458547.7598 \\alpha_{3}$"
          },
          "metadata": {},
          "execution_count": 20
        }
      ]
    },
    {
      "cell_type": "code",
      "source": [
        "solve(Tzz_num, alpha1)"
      ],
      "metadata": {
        "colab": {
          "base_uri": "https://localhost:8080/",
          "height": 39
        },
        "id": "TDftJc7O2PMO",
        "outputId": "966a19b1-e76b-4c5f-8af3-4ccfee3a2916"
      },
      "execution_count": null,
      "outputs": [
        {
          "output_type": "execute_result",
          "data": {
            "text/plain": [
              "[-0.566686759781425⋅α₃]"
            ],
            "image/png": "[encoded data removed]",
            "text/latex": "$\\displaystyle \\left[ - 0.566686759781425 \\alpha_{3}\\right]$"
          },
          "metadata": {},
          "execution_count": 21
        }
      ]
    },
    {
      "cell_type": "code",
      "source": [
        "solve(Txz_num, alpha1)"
      ],
      "metadata": {
        "colab": {
          "base_uri": "https://localhost:8080/",
          "height": 39
        },
        "id": "XkwErCuCPGIu",
        "outputId": "4dccb230-daa6-4ec5-828a-11c7a8a5999e"
      },
      "execution_count": null,
      "outputs": [
        {
          "output_type": "execute_result",
          "data": {
            "text/plain": [
              "[-0.566686759781425⋅α₃]"
            ],
            "image/png": "[encoded data removed]",
            "text/latex": "$\\displaystyle \\left[ - 0.566686759781425 \\alpha_{3}\\right]$"
          },
          "metadata": {},
          "execution_count": 22
        }
      ]
    },
    {
      "cell_type": "code",
      "source": [
        "b1_num = b1s.subs([(v, v_num), (rho, 2700.0), (c11, 107.0e9), (c44, 28.0e9)])\n",
        "b1_num"
      ],
      "metadata": {
        "colab": {
          "base_uri": "https://localhost:8080/",
          "height": 39
        },
        "id": "reADN9-KPX1e",
        "outputId": "b86007c9-1f80-4257-f55a-fcd3295b497a"
      },
      "execution_count": null,
      "outputs": [
        {
          "output_type": "execute_result",
          "data": {
            "text/plain": [
              "-0.879328857006359⋅ⅈ"
            ],
            "image/png": "[encoded data removed]",
            "text/latex": "$\\displaystyle - 0.879328857006359 i$"
          },
          "metadata": {},
          "execution_count": 23
        }
      ]
    },
    {
      "cell_type": "code",
      "source": [
        "b3_num = b3s.subs([(v, v_num), (rho, 2700.0), (c11, 107.0e9), (c44, 28.0e9)])\n",
        "b3_num"
      ],
      "metadata": {
        "colab": {
          "base_uri": "https://localhost:8080/",
          "height": 39
        },
        "id": "_reu1-lWPrht",
        "outputId": "1f125a9b-316c-4d02-ed26-1fa9a700fde3"
      },
      "execution_count": null,
      "outputs": [
        {
          "output_type": "execute_result",
          "data": {
            "text/plain": [
              "-0.365203394785493⋅ⅈ"
            ],
            "image/png": "[encoded data removed]",
            "text/latex": "$\\displaystyle - 0.365203394785493 i$"
          },
          "metadata": {},
          "execution_count": 24
        }
      ]
    },
    {
      "cell_type": "code",
      "source": [
        "uxo1_num = uxo1s.subs([(v, v_num), (rho, 2700.0), (c11, 107.0e9), (c44, 28.0e9)])\n",
        "uxo1_num"
      ],
      "metadata": {
        "colab": {
          "base_uri": "https://localhost:8080/",
          "height": 39
        },
        "id": "M9dv3E8rPx_Y",
        "outputId": "518630c3-abb0-45bc-d5ef-5e61437fc643"
      },
      "execution_count": null,
      "outputs": [
        {
          "output_type": "execute_result",
          "data": {
            "text/plain": [
              "1.13723095976227⋅ⅈ"
            ],
            "image/png": "[encoded data removed]",
            "text/latex": "$\\displaystyle 1.13723095976227 i$"
          },
          "metadata": {},
          "execution_count": 25
        }
      ]
    },
    {
      "cell_type": "code",
      "source": [
        "uxo3_num = uxo3s.subs([(v, v_num), (rho, 2700.0), (c11, 107.0e9), (c44, 28.0e9)])\n",
        "uxo3_num"
      ],
      "metadata": {
        "colab": {
          "base_uri": "https://localhost:8080/",
          "height": 39
        },
        "id": "qxtN5egKQIrk",
        "outputId": "3eefb1be-e56c-459a-b06b-353d41fa86db"
      },
      "execution_count": null,
      "outputs": [
        {
          "output_type": "execute_result",
          "data": {
            "text/plain": [
              "0.365203394785493⋅ⅈ"
            ],
            "image/png": "[encoded data removed]",
            "text/latex": "$\\displaystyle 0.365203394785493 i$"
          },
          "metadata": {},
          "execution_count": 26
        }
      ]
    },
    {
      "cell_type": "code",
      "source": [
        "# ux1 = uxo1*exp(-I*k*b1*z)*exp(I*k*(v*t-x))\n",
        "# uz1 = uzo1*exp(-I*k*b1*z)*exp(I*k*(v*t-x))\n",
        "\n",
        "# ux3 = uxo3*exp(-I*k*b3*z)*exp(I*k*(v*t-x))\n",
        "# uz3 = uzo3*exp(-I*k*b3*z)*exp(I*k*(v*t-x))\n",
        "\n",
        "ux = (-(0.566686759781425)*uxo1_num*exp(-I*2*np.pi*b1_num*z) + uxo3_num*exp(-I*2*np.pi*b3_num*z))/(-I)  # z, scaled by wavelength\n",
        "ux"
      ],
      "metadata": {
        "colab": {
          "base_uri": "https://localhost:8080/",
          "height": 39
        },
        "id": "Fyih2zTgQS4E",
        "outputId": "d5897add-e29a-454a-af48-f228ff4ceffd"
      },
      "execution_count": null,
      "outputs": [
        {
          "output_type": "execute_result",
          "data": {
            "text/plain": [
              "  ⎛                     -5.52498615452138⋅z                        -2.29464060\n",
              "ⅈ⋅⎝- 0.6444537277108⋅ⅈ⋅ℯ                    + 0.365203394785493⋅ⅈ⋅ℯ           \n",
              "\n",
              "424832⋅z⎞\n",
              "        ⎠"
            ],
            "image/png": "[encoded data removed]",
            "text/latex": "$\\displaystyle i \\left(- 0.6444537277108 i e^{- 5.52498615452138 z} + 0.365203394785493 i e^{- 2.29464060424832 z}\\right)$"
          },
          "metadata": {},
          "execution_count": 27
        }
      ]
    },
    {
      "cell_type": "code",
      "source": [
        "uz = (-(0.566686759781425)*1*exp(-I*2*np.pi*b1_num*z) + 1*exp(-I*2*np.pi*b3_num*z))\n",
        "uz"
      ],
      "metadata": {
        "colab": {
          "base_uri": "https://localhost:8080/",
          "height": 39
        },
        "id": "EOHWURh8TVfu",
        "outputId": "34042fcf-9bd7-4af5-8689-9a7426b29faf"
      },
      "execution_count": null,
      "outputs": [
        {
          "output_type": "execute_result",
          "data": {
            "text/plain": [
              "                     -5.52498615452138⋅z    -2.29464060424832⋅z\n",
              "- 0.566686759781425⋅ℯ                    + ℯ                   "
            ],
            "image/png": "[encoded data removed]",
            "text/latex": "$\\displaystyle - 0.566686759781425 e^{- 5.52498615452138 z} + e^{- 2.29464060424832 z}$"
          },
          "metadata": {},
          "execution_count": 28
        }
      ]
    },
    {
      "cell_type": "code",
      "source": [
        "import matplotlib.pyplot as plt\n",
        "import seaborn as sns; sns.set()\n",
        "from sympy import lambdify\n",
        "%matplotlib inline \n",
        "%config InlineBackend.figure_format = 'retina'\n",
        "\n",
        "fig, ax = plt.subplots(figsize=(8, 6))\n",
        "\n",
        "a = np.linspace(0, 2, 100)\n",
        "fx = lambdify(z, ux, \"numpy\")\n",
        "fz = lambdify(z, uz, \"numpy\")\n",
        "\n",
        "ax.plot(a, fx(a)/fz(0), ':r', label='ux')\n",
        "ax.plot(a, fz(a)/fz(0), 'b', label='uz')\n",
        "ax.legend()\n"
      ],
      "metadata": {
        "colab": {
          "base_uri": "https://localhost:8080/"
        },
        "id": "RvsYRJUBRhS_",
        "outputId": "da1ce7ac-4c62-4265-8bc3-45ae47051081"
      },
      "execution_count": null,
      "outputs": [
        {
          "output_type": "stream",
          "name": "stderr",
          "text": [
            "/usr/local/lib/python3.7/dist-packages/matplotlib/cbook/__init__.py:1317: ComplexWarning: Casting complex values to real discards the imaginary part\n",
            "  return np.asarray(x, float)\n"
          ]
        },
        {
          "output_type": "execute_result",
          "data": {
            "text/plain": [
              "<matplotlib.legend.Legend at 0x7f803d1aaa10>"
            ]
          },
          "metadata": {},
          "execution_count": 29
        },
        {
          "output_type": "display_data",
          "data": {
            "text/plain": [
              "<Figure size 576x432 with 1 Axes>"
            ],
            "image/png": "[encoded data removed]"
          },
          "metadata": {
            "image/png": {
              "width": 497,
              "height": 360
            },
            "needs_background": "light"
          }
        }
      ]
    },
    {
      "cell_type": "markdown",
      "source": [
        "## part 3, 数值计算，迭代求解声速"
      ],
      "metadata": {
        "id": "7b8KtOfixyx-"
      }
    },
    {
      "cell_type": "code",
      "source": [
        "B"
      ],
      "metadata": {
        "colab": {
          "base_uri": "https://localhost:8080/",
          "height": 70
        },
        "id": "UnvI0XLkyAgo",
        "outputId": "7e00b990-2ec9-4d2a-ff9b-58f21c84cf6c"
      },
      "execution_count": null,
      "outputs": [
        {
          "output_type": "execute_result",
          "data": {
            "text/plain": [
              "⎡                                                                _____________\n",
              "⎢                    ____________________________               ╱             \n",
              "⎢                   ╱                      2        5.457e+21⋅╲╱  2.5233644859\n",
              "⎢- 107000000000.0⋅╲╱  2.52336448598131e-8⋅v  - 1  - ──────────────────────────\n",
              "⎢                                                                   2         \n",
              "⎢                                                           2700.0⋅v  - 107000\n",
              "⎢                                                                             \n",
              "⎢                             ⎛                     2    ⎞                    \n",
              "⎢                   2.996e+21⋅⎝2.52336448598131e-8⋅v  - 1⎠                    \n",
              "⎢                   ────────────────────────────────────── + 28000000000.0    \n",
              "⎢                                 2                                           \n",
              "⎣                         2700.0⋅v  - 107000000000.0                          \n",
              "\n",
              "_______________                                                ⎤\n",
              "         2                         ____________________________⎥\n",
              "8131e-8⋅v  - 1                    ╱                      2     ⎥\n",
              "───────────────  -56000000000.0⋅╲╱  9.64285714285714e-8⋅v  - 1 ⎥\n",
              "                                                               ⎥\n",
              "000000.0                                                       ⎥\n",
              "                                                               ⎥\n",
              "                                                               ⎥\n",
              "                                                   2           ⎥\n",
              "                           56000000000.0 - 2700.0⋅v            ⎥\n",
              "                                                               ⎥\n",
              "                                                               ⎦"
            ],
            "text/latex": "$\\displaystyle \\left[\\begin{matrix}- 107000000000.0 \\sqrt{2.52336448598131 \\cdot 10^{-8} v^{2} - 1} - \\frac{5.457 \\cdot 10^{21} \\sqrt{2.52336448598131 \\cdot 10^{-8} v^{2} - 1}}{2700.0 v^{2} - 107000000000.0} & - 56000000000.0 \\sqrt{9.64285714285714 \\cdot 10^{-8} v^{2} - 1}\\\\\\frac{2.996 \\cdot 10^{21} \\left(2.52336448598131 \\cdot 10^{-8} v^{2} - 1\\right)}{2700.0 v^{2} - 107000000000.0} + 28000000000.0 & 56000000000.0 - 2700.0 v^{2}\\end{matrix}\\right]$"
          },
          "metadata": {},
          "execution_count": 30
        }
      ]
    },
    {
      "cell_type": "code",
      "source": [
        "# loss1 = lambdify(v, abs(B.det()), \"math\")\n",
        "# loss1 = abs(B.subs(v, v_num).det())\n",
        "v_pred = 3000  # 声速初始值，该值需大于实际声速，因表面波声速低于切向体波声速，故可用切向体波的声速作为初始值\n",
        "det_pred = B.det().evalf(subs={v:v_pred})\n",
        "v_list = [v_pred]\n",
        "det_list = [det_pred]\n",
        "learn_rate = 1  # 初始step，每次减1\n",
        "iters = 5 # 重复次数，当上一行初始step为1时，iters-1 即为声速的小数点位数\n",
        "\n",
        "start_time = time.time()\n",
        "for i in range(iters):    \n",
        "    print(f\"start guess with step {learn_rate}\")\n",
        "    for j in range(1000):\n",
        "        if i%2 == 0:  # 往复寻找 \n",
        "            v_pred -= learn_rate\n",
        "        else:\n",
        "            v_pred += learn_rate\n",
        "        loss = B.det().evalf(subs={v:v_pred})\n",
        "        print(f\"guess {j+1}: at {v_pred}, det equalas to {loss}\")\n",
        "        det_list.append(loss)\n",
        "        v_list.append(v_pred)\n",
        "        if abs(det_list[-1])>abs(det_list[-2]):\n",
        "            learn_rate *= 0.1\n",
        "            break\n",
        "end_time = time.time()\n",
        "print(\"======\")\n",
        "print(f\"the velocity is {v_list[-2]:.4f} m/s\")  # iters-1 \n",
        "print(f\"time escaped: {end_time-start_time:.3f} s\")\n"
      ],
      "metadata": {
        "colab": {
          "base_uri": "https://localhost:8080/"
        },
        "id": "MYOn4Czc0i3P",
        "outputId": "8e544656-9013-4ea0-9996-4526e2ae5e75"
      },
      "execution_count": null,
      "outputs": [
        {
          "output_type": "stream",
          "name": "stdout",
          "text": [
            "start guess with step 1\n",
            "guess 1: at 2999, det equalas to -1.61216984213519e+18*I\n",
            "guess 2: at 2998, det equalas to -1.82319116040611e+17*I\n",
            "guess 3: at 2997, det equalas to 1.24127005147289e+18*I\n",
            "start guess with step 0.1\n",
            "guess 1: at 2997.1, det equalas to 1.09919174158462e+18*I\n",
            "guess 2: at 2997.2, det equalas to 9.57051182920175e+17*I\n",
            "guess 3: at 2997.2999999999997, det equalas to 8.14848334943681e+17*I\n",
            "guess 4: at 2997.3999999999996, det equalas to 6.72583157074596e+17*I\n",
            "guess 5: at 2997.4999999999995, det equalas to 5.30255608687649e+17*I\n",
            "guess 6: at 2997.5999999999995, det equalas to 3.87865649112772e+17*I\n",
            "guess 7: at 2997.6999999999994, det equalas to 2.45413237635028e+17*I\n",
            "guess 8: at 2997.7999999999993, det equalas to 1.02898333494537e+17*I\n",
            "guess 9: at 2997.899999999999, det equalas to -3.96791041135868e+16*I\n",
            "guess 10: at 2997.999999999999, det equalas to -1.82319116039313e+17*I\n",
            "start guess with step 0.010000000000000002\n",
            "guess 1: at 2997.989999999999, det equalas to -1.68052297836968e+17*I\n",
            "guess 2: at 2997.9799999999987, det equalas to -1.53786105745796e+17*I\n",
            "guess 3: at 2997.9699999999984, det equalas to -1.39520539724888e+17*I\n",
            "guess 4: at 2997.959999999998, det equalas to -1.25255599733338e+17*I\n",
            "guess 5: at 2997.949999999998, det equalas to -1.10991285730242e+17*I\n",
            "guess 6: at 2997.939999999998, det equalas to -9.67275976747047e+16*I\n",
            "guess 7: at 2997.9299999999976, det equalas to -8.24645355258322e+16*I\n",
            "guess 8: at 2997.9199999999973, det equalas to -6.82020992427364e+16*I\n",
            "guess 9: at 2997.909999999997, det equalas to -5.39402887845335e+16*I\n",
            "guess 10: at 2997.899999999997, det equalas to -3.96791041103442e+16*I\n",
            "guess 11: at 2997.8899999999967, det equalas to -2.54185451792937e+16*I\n",
            "guess 12: at 2997.8799999999965, det equalas to -1.11586119505117e+16*I\n",
            "guess 13: at 2997.8699999999963, det equalas to 3.10069561686746e+15*I\n",
            "guess 14: at 2997.859999999996, det equalas to 1.73593775637051e+16*I\n",
            "start guess with step 0.0010000000000000002\n",
            "guess 1: at 2997.8609999999962, det equalas to 1.59335375205219e+16*I\n",
            "guess 2: at 2997.8619999999964, det equalas to 1.4507691221501e+16*I\n",
            "guess 3: at 2997.8629999999966, det equalas to 1.30818386666015e+16*I\n",
            "guess 4: at 2997.863999999997, det equalas to 1.16559798557827e+16*I\n",
            "guess 5: at 2997.864999999997, det equalas to 1.02301147890035e+16*I\n",
            "guess 6: at 2997.8659999999973, det equalas to 8.80424346622323e+15*I\n",
            "guess 7: at 2997.8669999999975, det equalas to 7.37836588740098e+15*I\n",
            "guess 8: at 2997.8679999999977, det equalas to 5.95248205249589e+15*I\n",
            "guess 9: at 2997.868999999998, det equalas to 4.5265919614671e+15*I\n",
            "guess 10: at 2997.869999999998, det equalas to 3.10069561427376e+15*I\n",
            "guess 11: at 2997.8709999999983, det equalas to 1.674793010875e+15*I\n",
            "guess 12: at 2997.8719999999985, det equalas to 248884151229974.0*I\n",
            "guess 13: at 2997.8729999999987, det equalas to -1.17703096470219e+15*I\n",
            "start guess with step 0.00010000000000000003\n",
            "guess 1: at 2997.8728999999985, det equalas to -1.03443917131551e+15*I\n",
            "guess 2: at 2997.8727999999983, det equalas to -891847440492079.0*I\n",
            "guess 3: at 2997.872699999998, det equalas to -749255772231842.0*I\n",
            "guess 4: at 2997.872599999998, det equalas to -606664166534763.0*I\n",
            "guess 5: at 2997.8724999999977, det equalas to -464072623400800.0*I\n",
            "guess 6: at 2997.8723999999975, det equalas to -321481142829913.0*I\n",
            "guess 7: at 2997.8722999999973, det equalas to -178889724822061.0*I\n",
            "guess 8: at 2997.872199999997, det equalas to -36298369377203.7*I\n",
            "guess 9: at 2997.872099999997, det equalas to 106292923504701.0*I\n",
            "======\n",
            "the velocity is 2997.8722 m/s\n",
            "time escaped: 1.701 s\n"
          ]
        }
      ]
    },
    {
      "cell_type": "code",
      "source": [],
      "metadata": {
        "id": "BenOvCbV3ZTX"
      },
      "execution_count": null,
      "outputs": []
    }
  ]
}