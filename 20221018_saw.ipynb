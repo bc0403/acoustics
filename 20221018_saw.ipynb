{
  "nbformat": 4,
  "nbformat_minor": 0,
  "metadata": {
    "colab": {
      "provenance": [],
      "authorship_tag": "ABX9TyPv9nuAJBqwjcJnvzpFD7Ho",
      "include_colab_link": true
    },
    "kernelspec": {
      "name": "python3",
      "display_name": "Python 3"
    },
    "language_info": {
      "name": "python"
    }
  },
  "cells": [
    {
      "cell_type": "markdown",
      "metadata": {
        "id": "view-in-github",
        "colab_type": "text"
      },
      "source": [
        "<a href=\"https://colab.research.google.com/github/bc0403/acoustics/blob/main/20221018_saw.ipynb\" target=\"_parent\"><img src=\"https://colab.research.google.com/assets/colab-badge.svg\" alt=\"Open In Colab\"/></a>"
      ]
    },
    {
      "cell_type": "markdown",
      "source": [
        "The maximum read-out distance $r$ between the SAW sensor and the interrogator is determined by the radar equation:\n",
        "$$\n",
        "r = \\frac{\\lambda}{4\\pi}\\sqrt[4]{\\frac{P_0 G_i^2 G_e^2}{k T_0 B \\cdot F \\cdot S/N \\cdot D}}\n",
        "$$\n"
      ],
      "metadata": {
        "id": "cFNMbkc0A2vh"
      }
    },
    {
      "cell_type": "code",
      "source": [
        "import numpy as np\n",
        "\n",
        "# constants\n",
        "c = 300e6  # velocity of light, m/s\n",
        "k = 1.38e-23  # Boltzmann constant, J/K\n",
        "\n",
        "# specify \n",
        "f = 433e6  # freqency of SAWR, Hz\n",
        "P0_dBm = 30  # transmitted power of the interrogator, dBm\n",
        "Gi_dBi = 6  # gain of thy interrogator antenna, dBi\n",
        "Ge_dBi = -6  # gain of the sensor antenna, dBi\n",
        "D_dB = 40  # insertion loss of the sensor, dB\n",
        "T0 = 300 # temperature at interrogator, K\n",
        "B = 90e6 # bandwidth of interrogator system, Hz\n",
        "F_dB = 5 # noise figure of interrogator system, dB\n",
        "SN_dB = 10 # needed sinal noise ratio at interrogator receiver, dB\n",
        "\n",
        "# evaluate\n",
        "lambda0 = c/f  # wavelength of em\n",
        "print(f\"the wavelength of em wave at {f*1e-6:.2f} MHz is {lambda0*1e2:.2f} cm\")\n",
        "P0 = 1e-3*10**(P0_dBm/10)  # W\n",
        "Gi = 10**(Gi_dBi/10)\n",
        "Ge = 10**(Ge_dBi/10)\n",
        "D = 10**(D_dB/10)\n",
        "F = 10**(F_dB/10)\n",
        "SN = 10**(SN_dB/10)\n",
        "r = lambda0/(4*np.pi)*np.sqrt(np.sqrt(P0*Gi**2*Ge**2/(k*T0*B*F*SN*D)))\n",
        "print(f\"the max read-out distance is {r:.2f} m\")"
      ],
      "metadata": {
        "colab": {
          "base_uri": "https://localhost:8080/"
        },
        "id": "j3S--Wf6HUFB",
        "outputId": "a8b679bf-02f9-461b-f318-c962851e55f9"
      },
      "execution_count": null,
      "outputs": [
        {
          "output_type": "stream",
          "name": "stdout",
          "text": [
            "the wavelength of em wave at 433.00 MHz is 69.28 cm\n",
            "the max read-out distance is 2.98 m\n"
          ]
        }
      ]
    }
  ]
}